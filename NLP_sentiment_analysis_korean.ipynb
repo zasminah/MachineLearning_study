{
  "nbformat": 4,
  "nbformat_minor": 0,
  "metadata": {
    "colab": {
      "name": "NLP_sentiment_analysis_korean.ipynb",
      "provenance": [],
      "collapsed_sections": [],
      "toc_visible": true,
      "authorship_tag": "ABX9TyM6ke2YPqGFvl31hBE3eDJ9",
      "include_colab_link": true
    },
    "kernelspec": {
      "name": "python3",
      "display_name": "Python 3"
    },
    "language_info": {
      "name": "python"
    },
    "accelerator": "GPU"
  },
  "cells": [
    {
      "cell_type": "markdown",
      "metadata": {
        "id": "view-in-github",
        "colab_type": "text"
      },
      "source": [
        "<a href=\"https://colab.research.google.com/github/zasminah/Python_MachineLearning/blob/main/NLP_sentiment_analysis_korean.ipynb\" target=\"_parent\"><img src=\"https://colab.research.google.com/assets/colab-badge.svg\" alt=\"Open In Colab\"/></a>"
      ]
    },
    {
      "cell_type": "markdown",
      "metadata": {
        "id": "w9ipyEydaYfS"
      },
      "source": [
        "**Korean NLP sentiment analysis using KoNLPy**"
      ]
    },
    {
      "cell_type": "code",
      "metadata": {
        "colab": {
          "base_uri": "https://localhost:8080/"
        },
        "id": "kmvtZIMaaUfA",
        "outputId": "997a54e4-7f21-44f4-b607-a125cbd8c992"
      },
      "source": [
        "!set -x \\\n",
        "&& pip install konlpy \\\n",
        "&& curl -s https://raw.githubusercontent.com/konlpy/konlpy/master/scripts/mecab.sh | bash -x"
      ],
      "execution_count": 35,
      "outputs": [
        {
          "output_type": "stream",
          "text": [
            "+ pip install konlpy\n",
            "Requirement already satisfied: konlpy in /usr/local/lib/python3.7/dist-packages (0.5.2)\n",
            "Requirement already satisfied: JPype1>=0.7.0 in /usr/local/lib/python3.7/dist-packages (from konlpy) (1.2.1)\n",
            "Requirement already satisfied: lxml>=4.1.0 in /usr/local/lib/python3.7/dist-packages (from konlpy) (4.2.6)\n",
            "Requirement already satisfied: numpy>=1.6 in /usr/local/lib/python3.7/dist-packages (from konlpy) (1.19.5)\n",
            "Requirement already satisfied: colorama in /usr/local/lib/python3.7/dist-packages (from konlpy) (0.4.4)\n",
            "Requirement already satisfied: tweepy>=3.7.0 in /usr/local/lib/python3.7/dist-packages (from konlpy) (3.10.0)\n",
            "Requirement already satisfied: beautifulsoup4==4.6.0 in /usr/local/lib/python3.7/dist-packages (from konlpy) (4.6.0)\n",
            "Requirement already satisfied: typing-extensions; python_version < \"3.8\" in /usr/local/lib/python3.7/dist-packages (from JPype1>=0.7.0->konlpy) (3.7.4.3)\n",
            "Requirement already satisfied: requests[socks]>=2.11.1 in /usr/local/lib/python3.7/dist-packages (from tweepy>=3.7.0->konlpy) (2.23.0)\n",
            "Requirement already satisfied: requests-oauthlib>=0.7.0 in /usr/local/lib/python3.7/dist-packages (from tweepy>=3.7.0->konlpy) (1.3.0)\n",
            "Requirement already satisfied: six>=1.10.0 in /usr/local/lib/python3.7/dist-packages (from tweepy>=3.7.0->konlpy) (1.15.0)\n",
            "Requirement already satisfied: certifi>=2017.4.17 in /usr/local/lib/python3.7/dist-packages (from requests[socks]>=2.11.1->tweepy>=3.7.0->konlpy) (2020.12.5)\n",
            "Requirement already satisfied: idna<3,>=2.5 in /usr/local/lib/python3.7/dist-packages (from requests[socks]>=2.11.1->tweepy>=3.7.0->konlpy) (2.10)\n",
            "Requirement already satisfied: urllib3!=1.25.0,!=1.25.1,<1.26,>=1.21.1 in /usr/local/lib/python3.7/dist-packages (from requests[socks]>=2.11.1->tweepy>=3.7.0->konlpy) (1.24.3)\n",
            "Requirement already satisfied: chardet<4,>=3.0.2 in /usr/local/lib/python3.7/dist-packages (from requests[socks]>=2.11.1->tweepy>=3.7.0->konlpy) (3.0.4)\n",
            "Requirement already satisfied: PySocks!=1.5.7,>=1.5.6; extra == \"socks\" in /usr/local/lib/python3.7/dist-packages (from requests[socks]>=2.11.1->tweepy>=3.7.0->konlpy) (1.7.1)\n",
            "Requirement already satisfied: oauthlib>=3.0.0 in /usr/local/lib/python3.7/dist-packages (from requests-oauthlib>=0.7.0->tweepy>=3.7.0->konlpy) (3.1.0)\n",
            "+ bash -x\n",
            "+ curl -s https://raw.githubusercontent.com/konlpy/konlpy/master/scripts/mecab.sh\n",
            "+ mecab_dicdir=/usr/local/lib/mecab/dic/mecab-ko-dic\n",
            "+ set -e\n",
            "++ uname\n",
            "+ os=Linux\n",
            "+ [[ ! Linux == \\L\\i\\n\\u\\x ]]\n",
            "+ hash sudo\n",
            "+ sudo=sudo\n",
            "+ python=python3\n",
            "+ hash pyenv\n",
            "+ at_user_site=\n",
            "++ check_python_site_location_is_writable\n",
            "++ python3 -\n",
            "+ [[ 1 == \\0 ]]\n",
            "+ hash automake\n",
            "+ hash mecab\n",
            "+ echo 'mecab-ko is already installed'\n",
            "mecab-ko is already installed\n",
            "+ [[ -d /usr/local/lib/mecab/dic/mecab-ko-dic ]]\n",
            "+ echo 'mecab-ko-dic is already installed'\n",
            "mecab-ko-dic is already installed\n",
            "++ python3 -c 'import pkgutil; print(1 if pkgutil.find_loader(\"MeCab\") else 0)'\n",
            "+ [[ 1 == \\1 ]]\n",
            "+ echo 'mecab-python is already installed'\n",
            "mecab-python is already installed\n",
            "+ echo Done.\n",
            "Done.\n"
          ],
          "name": "stdout"
        }
      ]
    },
    {
      "cell_type": "code",
      "metadata": {
        "id": "tK6SYAFje_XU"
      },
      "source": [
        "import pandas as pd\n",
        "import numpy as np\n",
        "import matplotlib.pyplot as plt\n",
        "import tensorflow as tf\n",
        "import requests\n",
        "from bs4 import BeautifulSoup\n",
        "import urllib.request\n",
        "from konlpy.tag import Mecab"
      ],
      "execution_count": 36,
      "outputs": []
    },
    {
      "cell_type": "markdown",
      "metadata": {
        "id": "aKLbWnBGfZcq"
      },
      "source": [
        "**Data**\n",
        "For simple, get text file of Naver movie review from github instead of Web crawling\n",
        "\n",
        "https://raw.githubusercontent.com/e9t/nsmc/master/ratings_train.txt\n",
        "\n",
        "https://raw.githubusercontent.com/e9t/nsmc/master/ratings_test.txt"
      ]
    },
    {
      "cell_type": "code",
      "metadata": {
        "id": "zvtyywN6fn19"
      },
      "source": [
        "ratings_train = urllib.request.urlopen(\"https://raw.githubusercontent.com/e9t/nsmc/master/ratings_train.txt\")\n",
        "ratings_test = urllib.request.urlopen(\"https://raw.githubusercontent.com/e9t/nsmc/master/ratings_test.txt\")"
      ],
      "execution_count": 37,
      "outputs": []
    },
    {
      "cell_type": "code",
      "metadata": {
        "colab": {
          "base_uri": "https://localhost:8080/"
        },
        "id": "6S3vLbJ8fwnp",
        "outputId": "de7bb359-8764-44f4-8bca-5744c435d7a6"
      },
      "source": [
        "train_data = pd.read_table(ratings_train)\n",
        "test_data = pd.read_table(ratings_test)\n",
        "train_data.shape"
      ],
      "execution_count": 38,
      "outputs": [
        {
          "output_type": "execute_result",
          "data": {
            "text/plain": [
              "(150000, 3)"
            ]
          },
          "metadata": {
            "tags": []
          },
          "execution_count": 38
        }
      ]
    },
    {
      "cell_type": "code",
      "metadata": {
        "colab": {
          "base_uri": "https://localhost:8080/",
          "height": 204
        },
        "id": "UZQn4uy8gWdu",
        "outputId": "6973feb2-6fdf-4a11-baa1-93edf5703edb"
      },
      "source": [
        "train_data.head()"
      ],
      "execution_count": 39,
      "outputs": [
        {
          "output_type": "execute_result",
          "data": {
            "text/html": [
              "<div>\n",
              "<style scoped>\n",
              "    .dataframe tbody tr th:only-of-type {\n",
              "        vertical-align: middle;\n",
              "    }\n",
              "\n",
              "    .dataframe tbody tr th {\n",
              "        vertical-align: top;\n",
              "    }\n",
              "\n",
              "    .dataframe thead th {\n",
              "        text-align: right;\n",
              "    }\n",
              "</style>\n",
              "<table border=\"1\" class=\"dataframe\">\n",
              "  <thead>\n",
              "    <tr style=\"text-align: right;\">\n",
              "      <th></th>\n",
              "      <th>id</th>\n",
              "      <th>document</th>\n",
              "      <th>label</th>\n",
              "    </tr>\n",
              "  </thead>\n",
              "  <tbody>\n",
              "    <tr>\n",
              "      <th>0</th>\n",
              "      <td>9976970</td>\n",
              "      <td>아 더빙.. 진짜 짜증나네요 목소리</td>\n",
              "      <td>0</td>\n",
              "    </tr>\n",
              "    <tr>\n",
              "      <th>1</th>\n",
              "      <td>3819312</td>\n",
              "      <td>흠...포스터보고 초딩영화줄....오버연기조차 가볍지 않구나</td>\n",
              "      <td>1</td>\n",
              "    </tr>\n",
              "    <tr>\n",
              "      <th>2</th>\n",
              "      <td>10265843</td>\n",
              "      <td>너무재밓었다그래서보는것을추천한다</td>\n",
              "      <td>0</td>\n",
              "    </tr>\n",
              "    <tr>\n",
              "      <th>3</th>\n",
              "      <td>9045019</td>\n",
              "      <td>교도소 이야기구먼 ..솔직히 재미는 없다..평점 조정</td>\n",
              "      <td>0</td>\n",
              "    </tr>\n",
              "    <tr>\n",
              "      <th>4</th>\n",
              "      <td>6483659</td>\n",
              "      <td>사이몬페그의 익살스런 연기가 돋보였던 영화!스파이더맨에서 늙어보이기만 했던 커스틴 ...</td>\n",
              "      <td>1</td>\n",
              "    </tr>\n",
              "  </tbody>\n",
              "</table>\n",
              "</div>"
            ],
            "text/plain": [
              "         id                                           document  label\n",
              "0   9976970                                아 더빙.. 진짜 짜증나네요 목소리      0\n",
              "1   3819312                  흠...포스터보고 초딩영화줄....오버연기조차 가볍지 않구나      1\n",
              "2  10265843                                  너무재밓었다그래서보는것을추천한다      0\n",
              "3   9045019                      교도소 이야기구먼 ..솔직히 재미는 없다..평점 조정      0\n",
              "4   6483659  사이몬페그의 익살스런 연기가 돋보였던 영화!스파이더맨에서 늙어보이기만 했던 커스틴 ...      1"
            ]
          },
          "metadata": {
            "tags": []
          },
          "execution_count": 39
        }
      ]
    },
    {
      "cell_type": "markdown",
      "metadata": {
        "id": "SZo4GD-Ogpeb"
      },
      "source": [
        "**Data pre-processing**"
      ]
    },
    {
      "cell_type": "code",
      "metadata": {
        "colab": {
          "base_uri": "https://localhost:8080/"
        },
        "id": "l0hP2I3AguKd",
        "outputId": "1e089bec-1ce6-42fb-be22-f8898b786205"
      },
      "source": [
        "train_data['document'].nunique()"
      ],
      "execution_count": 40,
      "outputs": [
        {
          "output_type": "execute_result",
          "data": {
            "text/plain": [
              "146182"
            ]
          },
          "metadata": {
            "tags": []
          },
          "execution_count": 40
        }
      ]
    },
    {
      "cell_type": "code",
      "metadata": {
        "colab": {
          "base_uri": "https://localhost:8080/"
        },
        "id": "IK0QFOEWgw0A",
        "outputId": "14a1b6c7-828f-40f8-bcd3-c3958f518930"
      },
      "source": [
        "train_data['label'].nunique()"
      ],
      "execution_count": 41,
      "outputs": [
        {
          "output_type": "execute_result",
          "data": {
            "text/plain": [
              "2"
            ]
          },
          "metadata": {
            "tags": []
          },
          "execution_count": 41
        }
      ]
    },
    {
      "cell_type": "markdown",
      "metadata": {
        "id": "uw2yMLTBgzHe"
      },
      "source": [
        "1. Check duplicate"
      ]
    },
    {
      "cell_type": "code",
      "metadata": {
        "colab": {
          "base_uri": "https://localhost:8080/"
        },
        "id": "HizjP3DRg8c6",
        "outputId": "811d99f4-4c0c-44b3-f6d1-0d00f2bffac2"
      },
      "source": [
        "train_data.drop_duplicates(subset=['document'], inplace=True)\n",
        "train_data.shape"
      ],
      "execution_count": 42,
      "outputs": [
        {
          "output_type": "execute_result",
          "data": {
            "text/plain": [
              "(146183, 3)"
            ]
          },
          "metadata": {
            "tags": []
          },
          "execution_count": 42
        }
      ]
    },
    {
      "cell_type": "markdown",
      "metadata": {
        "id": "6P96HnDehLpf"
      },
      "source": [
        "2. Check Null data"
      ]
    },
    {
      "cell_type": "code",
      "metadata": {
        "colab": {
          "base_uri": "https://localhost:8080/"
        },
        "id": "wc1ILaUHhPOO",
        "outputId": "634ca437-e181-4c47-bdbd-215adf59429d"
      },
      "source": [
        "train_data.isnull().sum()"
      ],
      "execution_count": 43,
      "outputs": [
        {
          "output_type": "execute_result",
          "data": {
            "text/plain": [
              "id          0\n",
              "document    1\n",
              "label       0\n",
              "dtype: int64"
            ]
          },
          "metadata": {
            "tags": []
          },
          "execution_count": 43
        }
      ]
    },
    {
      "cell_type": "code",
      "metadata": {
        "colab": {
          "base_uri": "https://localhost:8080/"
        },
        "id": "OXYzFImvhY9n",
        "outputId": "da9cab8e-162a-4aa2-a42b-44f7b2dfaae2"
      },
      "source": [
        "train_data = train_data.dropna(how='any')\n",
        "train_data.shape"
      ],
      "execution_count": 44,
      "outputs": [
        {
          "output_type": "execute_result",
          "data": {
            "text/plain": [
              "(146182, 3)"
            ]
          },
          "metadata": {
            "tags": []
          },
          "execution_count": 44
        }
      ]
    },
    {
      "cell_type": "markdown",
      "metadata": {
        "id": "zvzIli22iUbG"
      },
      "source": [
        "3. Check Korean language only"
      ]
    },
    {
      "cell_type": "code",
      "metadata": {
        "colab": {
          "base_uri": "https://localhost:8080/",
          "height": 204
        },
        "id": "5LnPg0-OiTjL",
        "outputId": "8dc9c652-1714-4ed9-a46b-866f028fe83c"
      },
      "source": [
        "train_data['document'] = train_data['document'].str.replace(\"[^ㄱ-ㅎㅏ-ㅣ가-힣]\",\"\")\n",
        "train_data.head()\n"
      ],
      "execution_count": 45,
      "outputs": [
        {
          "output_type": "execute_result",
          "data": {
            "text/html": [
              "<div>\n",
              "<style scoped>\n",
              "    .dataframe tbody tr th:only-of-type {\n",
              "        vertical-align: middle;\n",
              "    }\n",
              "\n",
              "    .dataframe tbody tr th {\n",
              "        vertical-align: top;\n",
              "    }\n",
              "\n",
              "    .dataframe thead th {\n",
              "        text-align: right;\n",
              "    }\n",
              "</style>\n",
              "<table border=\"1\" class=\"dataframe\">\n",
              "  <thead>\n",
              "    <tr style=\"text-align: right;\">\n",
              "      <th></th>\n",
              "      <th>id</th>\n",
              "      <th>document</th>\n",
              "      <th>label</th>\n",
              "    </tr>\n",
              "  </thead>\n",
              "  <tbody>\n",
              "    <tr>\n",
              "      <th>0</th>\n",
              "      <td>9976970</td>\n",
              "      <td>아더빙진짜짜증나네요목소리</td>\n",
              "      <td>0</td>\n",
              "    </tr>\n",
              "    <tr>\n",
              "      <th>1</th>\n",
              "      <td>3819312</td>\n",
              "      <td>흠포스터보고초딩영화줄오버연기조차가볍지않구나</td>\n",
              "      <td>1</td>\n",
              "    </tr>\n",
              "    <tr>\n",
              "      <th>2</th>\n",
              "      <td>10265843</td>\n",
              "      <td>너무재밓었다그래서보는것을추천한다</td>\n",
              "      <td>0</td>\n",
              "    </tr>\n",
              "    <tr>\n",
              "      <th>3</th>\n",
              "      <td>9045019</td>\n",
              "      <td>교도소이야기구먼솔직히재미는없다평점조정</td>\n",
              "      <td>0</td>\n",
              "    </tr>\n",
              "    <tr>\n",
              "      <th>4</th>\n",
              "      <td>6483659</td>\n",
              "      <td>사이몬페그의익살스런연기가돋보였던영화스파이더맨에서늙어보이기만했던커스틴던스트가너무나도이...</td>\n",
              "      <td>1</td>\n",
              "    </tr>\n",
              "  </tbody>\n",
              "</table>\n",
              "</div>"
            ],
            "text/plain": [
              "         id                                           document  label\n",
              "0   9976970                                      아더빙진짜짜증나네요목소리      0\n",
              "1   3819312                            흠포스터보고초딩영화줄오버연기조차가볍지않구나      1\n",
              "2  10265843                                  너무재밓었다그래서보는것을추천한다      0\n",
              "3   9045019                               교도소이야기구먼솔직히재미는없다평점조정      0\n",
              "4   6483659  사이몬페그의익살스런연기가돋보였던영화스파이더맨에서늙어보이기만했던커스틴던스트가너무나도이...      1"
            ]
          },
          "metadata": {
            "tags": []
          },
          "execution_count": 45
        }
      ]
    },
    {
      "cell_type": "code",
      "metadata": {
        "colab": {
          "base_uri": "https://localhost:8080/"
        },
        "id": "EZaBCYRdirxX",
        "outputId": "56ebb2ae-9b5a-4079-d4f5-6382621ad911"
      },
      "source": [
        "train_data['document'].replace('', np.nan, inplace=True)\n",
        "train_data.isnull().sum()"
      ],
      "execution_count": 46,
      "outputs": [
        {
          "output_type": "execute_result",
          "data": {
            "text/plain": [
              "id            0\n",
              "document    789\n",
              "label         0\n",
              "dtype: int64"
            ]
          },
          "metadata": {
            "tags": []
          },
          "execution_count": 46
        }
      ]
    },
    {
      "cell_type": "code",
      "metadata": {
        "colab": {
          "base_uri": "https://localhost:8080/"
        },
        "id": "3ljHOU5_iwsD",
        "outputId": "8dfa3398-ce23-4faf-ed26-f78cbb67a7bb"
      },
      "source": [
        "train_data = train_data.dropna(how='any')\n",
        "train_data.shape"
      ],
      "execution_count": 47,
      "outputs": [
        {
          "output_type": "execute_result",
          "data": {
            "text/plain": [
              "(145393, 3)"
            ]
          },
          "metadata": {
            "tags": []
          },
          "execution_count": 47
        }
      ]
    },
    {
      "cell_type": "markdown",
      "metadata": {
        "id": "nDe2TBawi4Q_"
      },
      "source": [
        "4. Test Data Pre Processing"
      ]
    },
    {
      "cell_type": "code",
      "metadata": {
        "id": "PgHMNYnZizDh"
      },
      "source": [
        "test_data.drop_duplicates(subset=['document'], inplace=True)\n",
        "test_data['document'] = test_data['document'].str.replace(\"[^ㄱ-ㅎㅏ-ㅣ가-힣]\",\"\")\n",
        "test_data['document'].replace('', np.nan, inplace=True)\n",
        "test_data = test_data.dropna(how='any')"
      ],
      "execution_count": 48,
      "outputs": []
    },
    {
      "cell_type": "markdown",
      "metadata": {
        "id": "wviicDPMjjh3"
      },
      "source": [
        "5. Serail Data"
      ]
    },
    {
      "cell_type": "code",
      "metadata": {
        "colab": {
          "base_uri": "https://localhost:8080/"
        },
        "id": "ejVcr_Nnjn_9",
        "outputId": "c45f1360-c123-4217-d708-5d01918b2726"
      },
      "source": [
        "mecab = Mecab()\n",
        "X_train = []\n",
        "for sentence in train_data['document']:\n",
        "  X_train.append([word for word in mecab.morphs(sentence)])\n",
        "X_train[:3]"
      ],
      "execution_count": 49,
      "outputs": [
        {
          "output_type": "execute_result",
          "data": {
            "text/plain": [
              "[['아', '더', '빙', '진짜', '짜증', '나', '네', '요목', '소리'],\n",
              " ['흠', '포스터', '보고', '초딩', '영화', '줄', '오버', '연기', '조차', '가볍', '지', '않', '구나'],\n",
              " ['너무', '재', '밓었다그래서보는것을추천한다']]"
            ]
          },
          "metadata": {
            "tags": []
          },
          "execution_count": 49
        }
      ]
    },
    {
      "cell_type": "code",
      "metadata": {
        "colab": {
          "base_uri": "https://localhost:8080/"
        },
        "id": "QhXoUei-jtUY",
        "outputId": "bcae8744-aeea-4b93-9ea7-e327167c4045"
      },
      "source": [
        "X_test = []\n",
        "for sentence in test_data['document']:\n",
        "  X_test.append([word for word in mecab.morphs(sentence)])\n",
        "X_test[:3]"
      ],
      "execution_count": 50,
      "outputs": [
        {
          "output_type": "execute_result",
          "data": {
            "text/plain": [
              "[['굳', 'ㅋ'],\n",
              " ['뭐',\n",
              "  '야',\n",
              "  '이',\n",
              "  '평점',\n",
              "  '들',\n",
              "  '은',\n",
              "  '나쁘',\n",
              "  '진',\n",
              "  '않',\n",
              "  '지만',\n",
              "  '점',\n",
              "  '짜리',\n",
              "  '는',\n",
              "  '더더욱',\n",
              "  '아니',\n",
              "  '잖아'],\n",
              " ['지루',\n",
              "  '하',\n",
              "  '지',\n",
              "  '는',\n",
              "  '않',\n",
              "  '은데',\n",
              "  '완전',\n",
              "  '막장',\n",
              "  '임',\n",
              "  '돈',\n",
              "  '주',\n",
              "  '고',\n",
              "  '보',\n",
              "  '기',\n",
              "  '에',\n",
              "  '는']]"
            ]
          },
          "metadata": {
            "tags": []
          },
          "execution_count": 50
        }
      ]
    },
    {
      "cell_type": "markdown",
      "metadata": {
        "id": "fSJUQsbCjxe9"
      },
      "source": [
        "*Tokenizer encode every character as an integer*"
      ]
    },
    {
      "cell_type": "code",
      "metadata": {
        "colab": {
          "base_uri": "https://localhost:8080/"
        },
        "id": "0-j-GaLVj1i6",
        "outputId": "395d7231-6952-49d4-d592-417704c8b471"
      },
      "source": [
        "tokenizer = tf.keras.preprocessing.text.Tokenizer()\n",
        "tokenizer.fit_on_texts(X_train) \n",
        "tokenizer.word_index"
      ],
      "execution_count": 51,
      "outputs": [
        {
          "output_type": "execute_result",
          "data": {
            "text/plain": [
              "{'이': 1,\n",
              " '는': 2,\n",
              " '영화': 3,\n",
              " '다': 4,\n",
              " '고': 5,\n",
              " '하': 6,\n",
              " '의': 7,\n",
              " '도': 8,\n",
              " '가': 9,\n",
              " '은': 10,\n",
              " '에': 11,\n",
              " '을': 12,\n",
              " '한': 13,\n",
              " '보': 14,\n",
              " '게': 15,\n",
              " '들': 16,\n",
              " '지': 17,\n",
              " '를': 18,\n",
              " '있': 19,\n",
              " '없': 20,\n",
              " '좋': 21,\n",
              " '나': 22,\n",
              " '었': 23,\n",
              " '는데': 24,\n",
              " '만': 25,\n",
              " '너무': 26,\n",
              " '봤': 27,\n",
              " '적': 28,\n",
              " '안': 29,\n",
              " '로': 30,\n",
              " '정말': 31,\n",
              " '으로': 32,\n",
              " '것': 33,\n",
              " '지만': 34,\n",
              " '네요': 35,\n",
              " '어': 36,\n",
              " '음': 37,\n",
              " '같': 38,\n",
              " '아': 39,\n",
              " '진짜': 40,\n",
              " '재밌': 41,\n",
              " '에서': 42,\n",
              " '했': 43,\n",
              " '기': 44,\n",
              " '않': 45,\n",
              " '네': 46,\n",
              " '았': 47,\n",
              " '거': 48,\n",
              " '수': 49,\n",
              " '되': 50,\n",
              " '면': 51,\n",
              " '과': 52,\n",
              " '인': 53,\n",
              " 'ㅋㅋ': 54,\n",
              " '말': 55,\n",
              " '연기': 56,\n",
              " '점': 57,\n",
              " '잘': 58,\n",
              " '최고': 59,\n",
              " '평점': 60,\n",
              " '주': 61,\n",
              " '이런': 62,\n",
              " '내': 63,\n",
              " '던': 64,\n",
              " '와': 65,\n",
              " '할': 66,\n",
              " '어요': 67,\n",
              " '겠': 68,\n",
              " '왜': 69,\n",
              " '스토리': 70,\n",
              " '습니다': 71,\n",
              " '해': 72,\n",
              " 'ㅋㅋㅋ': 73,\n",
              " '아니': 74,\n",
              " '듯': 75,\n",
              " '드라마': 76,\n",
              " '그': 77,\n",
              " '생각': 78,\n",
              " '사람': 79,\n",
              " '싶': 80,\n",
              " '더': 81,\n",
              " '감동': 82,\n",
              " '때': 83,\n",
              " '배우': 84,\n",
              " '까지': 85,\n",
              " '함': 86,\n",
              " '본': 87,\n",
              " '보다': 88,\n",
              " '좀': 89,\n",
              " '만들': 90,\n",
              " '뭐': 91,\n",
              " '내용': 92,\n",
              " '감독': 93,\n",
              " '알': 94,\n",
              " '볼': 95,\n",
              " '라': 96,\n",
              " '그냥': 97,\n",
              " '재미있': 98,\n",
              " '시간': 99,\n",
              " '지루': 100,\n",
              " '중': 101,\n",
              " '재미없': 102,\n",
              " '재미': 103,\n",
              " '였': 104,\n",
              " '잼': 105,\n",
              " '사랑': 106,\n",
              " '쓰레기': 107,\n",
              " '못': 108,\n",
              " '냐': 109,\n",
              " '라고': 110,\n",
              " '서': 111,\n",
              " '년': 112,\n",
              " '면서': 113,\n",
              " '다시': 114,\n",
              " '니': 115,\n",
              " '나오': 116,\n",
              " '작품': 117,\n",
              " '번': 118,\n",
              " '하나': 119,\n",
              " '이거': 120,\n",
              " '해서': 121,\n",
              " '야': 122,\n",
              " '줄': 123,\n",
              " '끝': 124,\n",
              " '마지막': 125,\n",
              " '남': 126,\n",
              " '정도': 127,\n",
              " '건': 128,\n",
              " '액션': 129,\n",
              " '입니다': 130,\n",
              " '라는': 131,\n",
              " '다는': 132,\n",
              " '기대': 133,\n",
              " '이건': 134,\n",
              " '많': 135,\n",
              " '완전': 136,\n",
              " '처음': 137,\n",
              " '장면': 138,\n",
              " '임': 139,\n",
              " '참': 140,\n",
              " '지금': 141,\n",
              " '다가': 142,\n",
              " '모르': 143,\n",
              " '으면': 144,\n",
              " '성': 145,\n",
              " '이렇게': 146,\n",
              " '이게': 147,\n",
              " '이야기': 148,\n",
              " 'ㅋ': 149,\n",
              " '된': 150,\n",
              " '아깝': 151,\n",
              " '돈': 152,\n",
              " '최악': 153,\n",
              " '느낌': 154,\n",
              " '일': 155,\n",
              " '님': 156,\n",
              " '다고': 157,\n",
              " '봐도': 158,\n",
              " '시': 159,\n",
              " '어서': 160,\n",
              " '개': 161,\n",
              " '인데': 162,\n",
              " '애': 163,\n",
              " '그리고': 164,\n",
              " '재': 165,\n",
              " '분': 166,\n",
              " '걸': 167,\n",
              " '이해': 168,\n",
              " '는지': 169,\n",
              " '명작': 170,\n",
              " '한국': 171,\n",
              " '여자': 172,\n",
              " '에게': 173,\n",
              " '많이': 174,\n",
              " '역시': 175,\n",
              " '또': 176,\n",
              " '부터': 177,\n",
              " '넘': 178,\n",
              " '이상': 179,\n",
              " '주인공': 180,\n",
              " '받': 181,\n",
              " '합니다': 182,\n",
              " '별로': 183,\n",
              " '난': 184,\n",
              " '자': 185,\n",
              " '만든': 186,\n",
              " '우리': 187,\n",
              " '편': 188,\n",
              " '이나': 189,\n",
              " '두': 190,\n",
              " '엔': 191,\n",
              " '전': 192,\n",
              " '괜찮': 193,\n",
              " '기억': 194,\n",
              " '때문': 195,\n",
              " '길': 196,\n",
              " '살': 197,\n",
              " '연출': 198,\n",
              " '한다': 199,\n",
              " 'ㅠㅠ': 200,\n",
              " 'ㅎㅎ': 201,\n",
              " '며': 202,\n",
              " '현실': 203,\n",
              " '저': 204,\n",
              " '요': 205,\n",
              " '랑': 206,\n",
              " '꼭': 207,\n",
              " '무슨': 208,\n",
              " '긴': 209,\n",
              " '소재': 210,\n",
              " '남자': 211,\n",
              " '전개': 212,\n",
              " '결말': 213,\n",
              " '마음': 214,\n",
              " '죽': 215,\n",
              " '내내': 216,\n",
              " '공포': 217,\n",
              " '대': 218,\n",
              " '데': 219,\n",
              " '아서': 220,\n",
              " '세요': 221,\n",
              " '아이': 222,\n",
              " '씨': 223,\n",
              " '화': 224,\n",
              " '인생': 225,\n",
              " '가장': 226,\n",
              " '속': 227,\n",
              " '은데': 228,\n",
              " '뿐': 229,\n",
              " '필요': 230,\n",
              " '짜증': 231,\n",
              " '다른': 232,\n",
              " '음악': 233,\n",
              " '일본': 234,\n",
              " '아요': 235,\n",
              " '유치': 236,\n",
              " '낮': 237,\n",
              " '짱': 238,\n",
              " '인지': 239,\n",
              " '다니': 240,\n",
              " '매력': 241,\n",
              " '수준': 242,\n",
              " '가슴': 243,\n",
              " '인간': 244,\n",
              " '웃': 245,\n",
              " '맞': 246,\n",
              " '원작': 247,\n",
              " '오': 248,\n",
              " '없이': 249,\n",
              " '높': 250,\n",
              " 'ㅡㅡ': 251,\n",
              " '반전': 252,\n",
              " '만드': 253,\n",
              " '굿': 254,\n",
              " '밋': 255,\n",
              " '보여': 256,\n",
              " '눈물': 257,\n",
              " 'ㄷ': 258,\n",
              " '찍': 259,\n",
              " '인가': 260,\n",
              " '코미디': 261,\n",
              " '준': 262,\n",
              " '모든': 263,\n",
              " '처럼': 264,\n",
              " '아직': 265,\n",
              " '아닌': 266,\n",
              " '별': 267,\n",
              " '그런': 268,\n",
              " '몰입': 269,\n",
              " '자체': 270,\n",
              " '쓰': 271,\n",
              " '추천': 272,\n",
              " '노': 273,\n",
              " '대한': 274,\n",
              " '용': 275,\n",
              " '스럽': 276,\n",
              " '란': 277,\n",
              " '눈': 278,\n",
              " '을까': 279,\n",
              " '신': 280,\n",
              " '몇': 281,\n",
              " '실망': 282,\n",
              " '울': 283,\n",
              " '솔직히': 284,\n",
              " '캐릭터': 285,\n",
              " '대박': 286,\n",
              " '는다': 287,\n",
              " '급': 288,\n",
              " '아주': 289,\n",
              " '전혀': 290,\n",
              " '마': 291,\n",
              " '가족': 292,\n",
              " '모두': 293,\n",
              " '나라': 294,\n",
              " '죠': 295,\n",
              " '여운': 296,\n",
              " '건지': 297,\n",
              " '다면': 298,\n",
              " '뭔가': 299,\n",
              " '될': 300,\n",
              " '연기력': 301,\n",
              " '시리즈': 302,\n",
              " '그래도': 303,\n",
              " '여': 304,\n",
              " '표현': 305,\n",
              " '모습': 306,\n",
              " '밖에': 307,\n",
              " '근데': 308,\n",
              " '계속': 309,\n",
              " '극장': 310,\n",
              " '이랑': 311,\n",
              " '제목': 312,\n",
              " '공감': 313,\n",
              " '비': 314,\n",
              " '이걸': 315,\n",
              " '부분': 316,\n",
              " 'ㅎ': 317,\n",
              " '먹': 318,\n",
              " '대단': 319,\n",
              " '어디': 320,\n",
              " '후': 321,\n",
              " '대사': 322,\n",
              " '기분': 323,\n",
              " '된다': 324,\n",
              " '가지': 325,\n",
              " '작가': 326,\n",
              " '개봉': 327,\n",
              " '작': 328,\n",
              " '보이': 329,\n",
              " '바': 330,\n",
              " '제': 331,\n",
              " '해도': 332,\n",
              " '보고': 333,\n",
              " '놓': 334,\n",
              " '봐야': 335,\n",
              " '치': 336,\n",
              " '웃기': 337,\n",
              " '아쉽': 338,\n",
              " '타임': 339,\n",
              " '삶': 340,\n",
              " '진': 341,\n",
              " '잔잔': 342,\n",
              " '막장': 343,\n",
              " '그렇': 344,\n",
              " '구': 345,\n",
              " '친구': 346,\n",
              " '조금': 347,\n",
              " '영상': 348,\n",
              " '이제': 349,\n",
              " '진심': 350,\n",
              " '라도': 351,\n",
              " '스릴러': 352,\n",
              " '씬': 353,\n",
              " '같이': 354,\n",
              " '억지': 355,\n",
              " '믿': 356,\n",
              " '요즘': 357,\n",
              " '딱': 358,\n",
              " '개인': 359,\n",
              " '제대로': 360,\n",
              " '싫': 361,\n",
              " '이유': 362,\n",
              " '긴장감': 363,\n",
              " '중간': 364,\n",
              " '나왔': 365,\n",
              " '부족': 366,\n",
              " '찾': 367,\n",
              " '만큼': 368,\n",
              " '물': 369,\n",
              " '시작': 370,\n",
              " '점수': 371,\n",
              " '라면': 372,\n",
              " '아까운': 373,\n",
              " '노래': 374,\n",
              " '한테': 375,\n",
              " '어떻게': 376,\n",
              " '잇': 377,\n",
              " '시대': 378,\n",
              " '특히': 379,\n",
              " '려고': 380,\n",
              " '아름다운': 381,\n",
              " '당시': 382,\n",
              " '니까': 383,\n",
              " '나온': 384,\n",
              " '구나': 385,\n",
              " '못하': 386,\n",
              " '오랜만': 387,\n",
              " '이것': 388,\n",
              " '무섭': 389,\n",
              " '팬': 390,\n",
              " '차라리': 391,\n",
              " '봐': 392,\n",
              " '세상': 393,\n",
              " '너무나': 394,\n",
              " '날': 395,\n",
              " '제일': 396,\n",
              " '절대': 397,\n",
              " '엔딩': 398,\n",
              " '훌륭': 399,\n",
              " '해요': 400,\n",
              " '느끼': 401,\n",
              " '따뜻': 402,\n",
              " '해야': 403,\n",
              " '글': 404,\n",
              " '도대체': 405,\n",
              " '마다': 406,\n",
              " '빼': 407,\n",
              " '어야': 408,\n",
              " '감': 409,\n",
              " '됨': 410,\n",
              " '사': 411,\n",
              " '봄': 412,\n",
              " '무엇': 413,\n",
              " '전쟁': 414,\n",
              " '던데': 415,\n",
              " '감정': 416,\n",
              " '강추': 417,\n",
              " '미국': 418,\n",
              " '답답': 419,\n",
              " '설정': 420,\n",
              " '놈': 421,\n",
              " '그저': 422,\n",
              " '어도': 423,\n",
              " '뻔': 424,\n",
              " '흥미': 425,\n",
              " '수작': 426,\n",
              " '행복': 427,\n",
              " '나름': 428,\n",
              " '사실': 429,\n",
              " '신선': 430,\n",
              " '드': 431,\n",
              " '시절': 432,\n",
              " '관객': 433,\n",
              " '자신': 434,\n",
              " '배경': 435,\n",
              " '앞': 436,\n",
              " '어이없': 437,\n",
              " '초반': 438,\n",
              " '욕': 439,\n",
              " '만화': 440,\n",
              " '허접': 441,\n",
              " '라니': 442,\n",
              " '추억': 443,\n",
              " '준다': 444,\n",
              " '엄청': 445,\n",
              " '질': 446,\n",
              " '캐스팅': 447,\n",
              " '형': 448,\n",
              " '의미': 449,\n",
              " '분위기': 450,\n",
              " '시나리오': 451,\n",
              " '더라': 452,\n",
              " '어색': 453,\n",
              " '답': 454,\n",
              " '멋진': 455,\n",
              " '웃음': 456,\n",
              " '군': 457,\n",
              " '멋있': 458,\n",
              " '정신': 459,\n",
              " '오늘': 460,\n",
              " '힘들': 461,\n",
              " '명': 462,\n",
              " '함께': 463,\n",
              " '봐서': 464,\n",
              " '슬프': 465,\n",
              " '잊': 466,\n",
              " '위해': 467,\n",
              " '등': 468,\n",
              " '뭔': 469,\n",
              " '구성': 470,\n",
              " '문제': 471,\n",
              " '역사': 472,\n",
              " '스러운': 473,\n",
              " '엄마': 474,\n",
              " '소리': 475,\n",
              " '유쾌': 476,\n",
              " '결국': 477,\n",
              " '졸작': 478,\n",
              " '집': 479,\n",
              " '뭘': 480,\n",
              " '머': 481,\n",
              " 'ㅜㅜ': 482,\n",
              " '어떤': 483,\n",
              " '낫': 484,\n",
              " '얼마나': 485,\n",
              " '킬링': 486,\n",
              " '아무리': 487,\n",
              " '애니메이션': 488,\n",
              " '완벽': 489,\n",
              " '한데': 490,\n",
              " '잡': 491,\n",
              " '첨': 492,\n",
              " '러': 493,\n",
              " '포스터': 494,\n",
              " '세': 495,\n",
              " '코믹': 496,\n",
              " 'ㅠ': 497,\n",
              " '소름': 498,\n",
              " '뻔한': 499,\n",
              " '버리': 500,\n",
              " '진부': 501,\n",
              " '출연': 502,\n",
              " '어릴': 503,\n",
              " '맘': 504,\n",
              " '간': 505,\n",
              " '미': 506,\n",
              " '제발': 507,\n",
              " '주연': 508,\n",
              " '나올': 509,\n",
              " '후회': 510,\n",
              " '책': 511,\n",
              " '개연': 512,\n",
              " '됐': 513,\n",
              " '이딴': 514,\n",
              " '큰': 515,\n",
              " '더니': 516,\n",
              " '갈수록': 517,\n",
              " '평가': 518,\n",
              " '충격': 519,\n",
              " '나요': 520,\n",
              " '반': 521,\n",
              " '얘기': 522,\n",
              " '여기': 523,\n",
              " '매우': 524,\n",
              " '잔인': 525,\n",
              " '보단': 526,\n",
              " '위한': 527,\n",
              " '둘': 528,\n",
              " '이후': 529,\n",
              " '자기': 530,\n",
              " '예술': 531,\n",
              " '읽': 532,\n",
              " '줬': 533,\n",
              " '장난': 534,\n",
              " '꽤': 535,\n",
              " '못한': 536,\n",
              " '옛날': 537,\n",
              " '아름답': 538,\n",
              " '얼굴': 539,\n",
              " '불': 540,\n",
              " '꺼': 541,\n",
              " '순수': 542,\n",
              " '난다': 543,\n",
              " '영화관': 544,\n",
              " '시청': 545,\n",
              " '장르': 546,\n",
              " '으나': 547,\n",
              " '든': 548,\n",
              " 'ㅅ': 549,\n",
              " '다음': 550,\n",
              " '텐데': 551,\n",
              " '점대': 552,\n",
              " '주제': 553,\n",
              " '티비': 554,\n",
              " '시키': 555,\n",
              " '비디오': 556,\n",
              " '다큐': 557,\n",
              " '궁금': 558,\n",
              " '건가': 559,\n",
              " '다운': 560,\n",
              " '생각나': 561,\n",
              " '이리': 562,\n",
              " '예전': 563,\n",
              " '불쌍': 564,\n",
              " '누구': 565,\n",
              " '봐라': 566,\n",
              " '그래서': 567,\n",
              " '배': 568,\n",
              " '엇': 569,\n",
              " '별점': 570,\n",
              " '감사': 571,\n",
              " '머리': 572,\n",
              " '상황': 573,\n",
              " '미친': 574,\n",
              " '언제': 575,\n",
              " '그만': 576,\n",
              " '라서': 577,\n",
              " '겟': 578,\n",
              " '그렇게': 579,\n",
              " '집중': 580,\n",
              " '진정': 581,\n",
              " '극': 582,\n",
              " '아님': 583,\n",
              " '낭비': 584,\n",
              " '아무': 585,\n",
              " '어느': 586,\n",
              " '그러': 587,\n",
              " '그것': 588,\n",
              " '약간': 589,\n",
              " '스릴': 590,\n",
              " '케': 591,\n",
              " '존나': 592,\n",
              " '소설': 593,\n",
              " '방송': 594,\n",
              " '사회': 595,\n",
              " '크': 596,\n",
              " '로맨스': 597,\n",
              " '훨씬': 598,\n",
              " '오래': 599,\n",
              " '뒤': 600,\n",
              " '그대로': 601,\n",
              " '그나마': 602,\n",
              " '깊': 603,\n",
              " '나와서': 604,\n",
              " '짜리': 605,\n",
              " '인상': 606,\n",
              " '떨어지': 607,\n",
              " '걸작': 608,\n",
              " '힘': 609,\n",
              " '꿈': 610,\n",
              " '여주인공': 611,\n",
              " '동안': 612,\n",
              " '마세요': 613,\n",
              " '애니': 614,\n",
              " '만점': 615,\n",
              " '본다': 616,\n",
              " '났': 617,\n",
              " '전체': 618,\n",
              " '인물': 619,\n",
              " '대체': 620,\n",
              " '몰': 621,\n",
              " '이쁘': 622,\n",
              " '너': 623,\n",
              " '나이': 624,\n",
              " '엉성': 625,\n",
              " '점주': 626,\n",
              " '죽이': 627,\n",
              " '류': 628,\n",
              " '짓': 629,\n",
              " '는가': 630,\n",
              " '에요': 631,\n",
              " '비교': 632,\n",
              " '세계': 633,\n",
              " '잘못': 634,\n",
              " '발연기': 635,\n",
              " '네이버': 636,\n",
              " '한마디': 637,\n",
              " '대해': 638,\n",
              " '중국': 639,\n",
              " '왔': 640,\n",
              " '이름': 641,\n",
              " '식': 642,\n",
              " '느껴': 643,\n",
              " '려는': 644,\n",
              " '초딩': 645,\n",
              " '누가': 646,\n",
              " '실화': 647,\n",
              " '햇': 648,\n",
              " '까': 649,\n",
              " '여배우': 650,\n",
              " '귀엽': 651,\n",
              " '어렸': 652,\n",
              " '쯤': 653,\n",
              " '순간': 654,\n",
              " '끝나': 655,\n",
              " '첫': 656,\n",
              " '비슷': 657,\n",
              " '구만': 658,\n",
              " '학교': 659,\n",
              " '나가': 660,\n",
              " 'ㅎㅎㅎ': 661,\n",
              " '점점': 662,\n",
              " '어설픈': 663,\n",
              " '아야': 664,\n",
              " '영상미': 665,\n",
              " '더럽': 666,\n",
              " '느낄': 667,\n",
              " '가능': 668,\n",
              " '하지만': 669,\n",
              " '해라': 670,\n",
              " '감성': 671,\n",
              " '혼자': 672,\n",
              " '너무너무': 673,\n",
              " '시즌': 674,\n",
              " '상': 675,\n",
              " '아들': 676,\n",
              " '여주': 677,\n",
              " '꿀': 678,\n",
              " '교훈': 679,\n",
              " '셨': 680,\n",
              " '화려': 681,\n",
              " '무': 682,\n",
              " '멋지': 683,\n",
              " '평': 684,\n",
              " '길래': 685,\n",
              " '당신': 686,\n",
              " '맛': 687,\n",
              " '바로': 688,\n",
              " '한번': 689,\n",
              " '끌': 690,\n",
              " '원': 691,\n",
              " '타': 692,\n",
              " '땜': 693,\n",
              " '한편': 694,\n",
              " '티': 695,\n",
              " '맨': 696,\n",
              " '판타지': 697,\n",
              " '지루함': 698,\n",
              " '성룡': 699,\n",
              " '입': 700,\n",
              " '졸': 701,\n",
              " '어린': 702,\n",
              " '달': 703,\n",
              " '돋': 704,\n",
              " '든다': 705,\n",
              " '갔': 706,\n",
              " '건데': 707,\n",
              " '거의': 708,\n",
              " '막': 709,\n",
              " '딸': 710,\n",
              " '듣': 711,\n",
              " '단': 712,\n",
              " '봤었': 713,\n",
              " '다르': 714,\n",
              " '생': 715,\n",
              " '상당히': 716,\n",
              " '씩': 717,\n",
              " '질질': 718,\n",
              " '목소리': 719,\n",
              " '전부': 720,\n",
              " '빨리': 721,\n",
              " '다만': 722,\n",
              " '아버지': 723,\n",
              " '나온다': 724,\n",
              " '이번': 725,\n",
              " '률': 726,\n",
              " '가치': 727,\n",
              " '대로': 728,\n",
              " '삼류': 729,\n",
              " '스타일': 730,\n",
              " '독특': 731,\n",
              " '그때': 732,\n",
              " '존재': 733,\n",
              " '여러': 734,\n",
              " '똥': 735,\n",
              " '갑자기': 736,\n",
              " '판': 737,\n",
              " '만나': 738,\n",
              " '저런': 739,\n",
              " '줄거리': 740,\n",
              " '넣': 741,\n",
              " '그러나': 742,\n",
              " '의도': 743,\n",
              " '밑': 744,\n",
              " '어른': 745,\n",
              " '아까움': 746,\n",
              " '에선': 747,\n",
              " '그녀': 748,\n",
              " '평론가': 749,\n",
              " '제작': 750,\n",
              " '예상': 751,\n",
              " '허무': 752,\n",
              " '자연': 753,\n",
              " '으면서': 754,\n",
              " '버린': 755,\n",
              " '째': 756,\n",
              " '비해': 757,\n",
              " '각본': 758,\n",
              " '떠나': 759,\n",
              " '화면': 760,\n",
              " '잠': 761,\n",
              " '성우': 762,\n",
              " '뻔하': 763,\n",
              " '이러': 764,\n",
              " '평범': 765,\n",
              " '군요': 766,\n",
              " '굉장히': 767,\n",
              " '중요': 768,\n",
              " '복수': 769,\n",
              " '단순': 770,\n",
              " '쉽': 771,\n",
              " 'ㅂ': 772,\n",
              " '요소': 773,\n",
              " '돼': 774,\n",
              " '갖': 775,\n",
              " '조차': 776,\n",
              " '새로운': 777,\n",
              " '담': 778,\n",
              " '일단': 779,\n",
              " '낸': 780,\n",
              " '선택': 781,\n",
              " '불편': 782,\n",
              " '쓴': 783,\n",
              " '댓글': 784,\n",
              " '거기': 785,\n",
              " '아빠': 786,\n",
              " '항상': 787,\n",
              " '슬픈': 788,\n",
              " '한다는': 789,\n",
              " '회': 790,\n",
              " '만족': 791,\n",
              " 'ㄱ': 792,\n",
              " '연출력': 793,\n",
              " '못했': 794,\n",
              " '피': 795,\n",
              " '앗': 796,\n",
              " '극장판': 797,\n",
              " '탄탄': 798,\n",
              " '거나': 799,\n",
              " '버렸': 800,\n",
              " '잃': 801,\n",
              " '당': 802,\n",
              " '굳': 803,\n",
              " '물론': 804,\n",
              " '관계': 805,\n",
              " '예쁘': 806,\n",
              " '관람': 807,\n",
              " '아닌가': 808,\n",
              " '롭': 809,\n",
              " '줌': 810,\n",
              " '나옴': 811,\n",
              " '충분히': 812,\n",
              " '전형': 813,\n",
              " '진행': 814,\n",
              " '흥행': 815,\n",
              " '짧': 816,\n",
              " '삼': 817,\n",
              " '에겐': 818,\n",
              " '한심': 819,\n",
              " '차': 820,\n",
              " '편집': 821,\n",
              " '예요': 822,\n",
              " 'ㅉㅉ': 823,\n",
              " '자극': 824,\n",
              " '위': 825,\n",
              " '안타깝': 826,\n",
              " '그런지': 827,\n",
              " '식상': 828,\n",
              " '도록': 829,\n",
              " '자꾸': 830,\n",
              " '원래': 831,\n",
              " '미안': 832,\n",
              " '려': 833,\n",
              " '게임': 834,\n",
              " '훈훈': 835,\n",
              " '초': 836,\n",
              " '사건': 837,\n",
              " '똑같': 838,\n",
              " '하고': 839,\n",
              " '화이팅': 840,\n",
              " '설명': 841,\n",
              " '그게': 842,\n",
              " '따라': 843,\n",
              " '법': 844,\n",
              " '역대': 845,\n",
              " '고자': 846,\n",
              " '어울리': 847,\n",
              " '뭔지': 848,\n",
              " '풀': 849,\n",
              " '과거': 850,\n",
              " '노력': 851,\n",
              " '상상': 852,\n",
              " '멜': 853,\n",
              " '어쩔': 854,\n",
              " '곳': 855,\n",
              " '도저히': 856,\n",
              " '닿': 857,\n",
              " '귀신': 858,\n",
              " '던가': 859,\n",
              " '코메디': 860,\n",
              " '했었': 861,\n",
              " '산': 862,\n",
              " '잖아': 863,\n",
              " '따': 864,\n",
              " '그래픽': 865,\n",
              " '아프': 866,\n",
              " '좋아하': 867,\n",
              " '취향': 868,\n",
              " '속편': 869,\n",
              " '죽음': 870,\n",
              " '됬': 871,\n",
              " '소중': 872,\n",
              " '몸': 873,\n",
              " '미치': 874,\n",
              " '아무것': 875,\n",
              " '넘치': 876,\n",
              " '프랑스': 877,\n",
              " '빙': 878,\n",
              " '황당': 879,\n",
              " '구요': 880,\n",
              " '몰랐': 881,\n",
              " '프로': 882,\n",
              " '아까워': 883,\n",
              " '나쁘': 884,\n",
              " '진지': 885,\n",
              " '심리': 886,\n",
              " '예': 887,\n",
              " '서로': 888,\n",
              " '엄청난': 889,\n",
              " '새끼': 890,\n",
              " '듬': 891,\n",
              " '무조건': 892,\n",
              " '빠': 893,\n",
              " '아쉬운': 894,\n",
              " '총': 895,\n",
              " '빠져': 896,\n",
              " '결혼': 897,\n",
              " '참신': 898,\n",
              " '팔': 899,\n",
              " '더빙': 900,\n",
              " '무서운': 901,\n",
              " '간다': 902,\n",
              " '헐': 903,\n",
              " '는구나': 904,\n",
              " '전설': 905,\n",
              " '오히려': 906,\n",
              " '심하': 907,\n",
              " '특유': 908,\n",
              " '빠지': 909,\n",
              " '간만에': 910,\n",
              " '이란': 911,\n",
              " '또한': 912,\n",
              " '홍콩': 913,\n",
              " '아도': 914,\n",
              " '중반': 915,\n",
              " '김': 916,\n",
              " '병맛': 917,\n",
              " '짜': 918,\n",
              " '아저씨': 919,\n",
              " '무비': 920,\n",
              " '틀': 921,\n",
              " '끝내': 922,\n",
              " '괜히': 923,\n",
              " '숨': 924,\n",
              " '연기자': 925,\n",
              " '별개': 926,\n",
              " '예고편': 927,\n",
              " '망': 928,\n",
              " '희망': 929,\n",
              " '느꼈': 930,\n",
              " '바보': 931,\n",
              " '소녀': 932,\n",
              " '후반부': 933,\n",
              " '상영': 934,\n",
              " '최근': 935,\n",
              " '촬영': 936,\n",
              " '존': 937,\n",
              " '천재': 938,\n",
              " '더욱': 939,\n",
              " '억지로': 940,\n",
              " '나쁜': 941,\n",
              " '로서': 942,\n",
              " '루': 943,\n",
              " '유명': 944,\n",
              " '현재': 945,\n",
              " '스': 946,\n",
              " '으니': 947,\n",
              " '전편': 948,\n",
              " '부모': 949,\n",
              " '진실': 950,\n",
              " '힘든': 951,\n",
              " '표정': 952,\n",
              " '지난': 953,\n",
              " '로맨틱': 954,\n",
              " '조연': 955,\n",
              " '짱짱': 956,\n",
              " '손': 957,\n",
              " '멋': 958,\n",
              " '비추': 959,\n",
              " '메세지': 960,\n",
              " '던지': 961,\n",
              " '즐겁': 962,\n",
              " '부': 963,\n",
              " '쳐': 964,\n",
              " '이야': 965,\n",
              " '대작': 966,\n",
              " '우연히': 967,\n",
              " '여성': 968,\n",
              " '아쉬움': 969,\n",
              " '살인': 970,\n",
              " '쩔': 971,\n",
              " '노출': 972,\n",
              " '묘사': 973,\n",
              " '대한민국': 974,\n",
              " '어라': 975,\n",
              " '순': 976,\n",
              " '그리': 977,\n",
              " '이미': 978,\n",
              " '빨': 979,\n",
              " '프로그램': 980,\n",
              " 'ㄴ': 981,\n",
              " '흥미진진': 982,\n",
              " '개그': 983,\n",
              " '마무리': 984,\n",
              " '왠만': 985,\n",
              " '나중': 986,\n",
              " '그런데': 987,\n",
              " '동화': 988,\n",
              " '엉망': 989,\n",
              " '역': 990,\n",
              " '짐': 991,\n",
              " '경찰': 992,\n",
              " '그림': 993,\n",
              " '에로': 994,\n",
              " '일까': 995,\n",
              " '청춘': 996,\n",
              " '어설프': 997,\n",
              " '십': 998,\n",
              " '최': 999,\n",
              " '남기': 1000,\n",
              " ...}"
            ]
          },
          "metadata": {
            "tags": []
          },
          "execution_count": 51
        }
      ]
    },
    {
      "cell_type": "code",
      "metadata": {
        "colab": {
          "base_uri": "https://localhost:8080/"
        },
        "id": "vz_SpJMVmeJM",
        "outputId": "bee8dd9e-1cce-419a-ff5e-f851a4682a54"
      },
      "source": [
        "threshold = 3\n",
        "words_cnt = len(tokenizer.word_index)\n",
        "rare_cnt = 0\n",
        "words_freq = 0\n",
        "rare_freq = 0\n",
        "\n",
        "for key, value in tokenizer.word_counts.items():\n",
        "  words_freq = words_freq + value\n",
        "  if value < threshold:\n",
        "    rare_cnt += 1\n",
        "    rare_freq = rare_freq + value\n",
        "\n",
        "print(words_cnt)\n",
        "print(rare_cnt)\n",
        "print(rare_cnt/words_cnt*100)\n",
        "print(rare_freq/words_freq*100)"
      ],
      "execution_count": 52,
      "outputs": [
        {
          "output_type": "stream",
          "text": [
            "58107\n",
            "35844\n",
            "61.686199597294646\n",
            "1.8505475840475856\n"
          ],
          "name": "stdout"
        }
      ]
    },
    {
      "cell_type": "code",
      "metadata": {
        "colab": {
          "base_uri": "https://localhost:8080/"
        },
        "id": "jqM5oPjhnTN4",
        "outputId": "49d2fb80-6d16-4044-b565-2e445cab9dd7"
      },
      "source": [
        "vocab_size = words_cnt - rare_cnt + 2\n",
        "vocab_size"
      ],
      "execution_count": 53,
      "outputs": [
        {
          "output_type": "execute_result",
          "data": {
            "text/plain": [
              "22265"
            ]
          },
          "metadata": {
            "tags": []
          },
          "execution_count": 53
        }
      ]
    },
    {
      "cell_type": "code",
      "metadata": {
        "id": "_YB21oyGnXeJ"
      },
      "source": [
        "tokenizer = tf.keras.preprocessing.text.Tokenizer(vocab_size, oov_token='OOV')\n",
        "tokenizer.fit_on_texts(X_train) \n",
        "X_train = tokenizer.texts_to_sequences(X_train)\n",
        "X_test = tokenizer.texts_to_sequences(X_test)"
      ],
      "execution_count": 54,
      "outputs": []
    },
    {
      "cell_type": "code",
      "metadata": {
        "id": "-12LbWi5s0h9"
      },
      "source": [
        "y_train = np.array(train_data['label'])\n",
        "y_test = np.array(test_data['label'])"
      ],
      "execution_count": 55,
      "outputs": []
    },
    {
      "cell_type": "markdown",
      "metadata": {
        "id": "kgVBq08Ts-Dn"
      },
      "source": [
        "**Padding for the same length**"
      ]
    },
    {
      "cell_type": "code",
      "metadata": {
        "colab": {
          "base_uri": "https://localhost:8080/"
        },
        "id": "daBuPGj0tDua",
        "outputId": "bc2b9fd2-bd1c-4d8b-fd1c-59dba698d132"
      },
      "source": [
        "max(len(i) for i in X_train)"
      ],
      "execution_count": 56,
      "outputs": [
        {
          "output_type": "execute_result",
          "data": {
            "text/plain": [
              "95"
            ]
          },
          "metadata": {
            "tags": []
          },
          "execution_count": 56
        }
      ]
    },
    {
      "cell_type": "code",
      "metadata": {
        "colab": {
          "base_uri": "https://localhost:8080/"
        },
        "id": "_UZEL5octGKi",
        "outputId": "de8923cd-0be0-490b-d60b-151eacd0ede1"
      },
      "source": [
        "sum(map(len, X_train)) / len(X_train)"
      ],
      "execution_count": 57,
      "outputs": [
        {
          "output_type": "execute_result",
          "data": {
            "text/plain": [
              "16.13266113224158"
            ]
          },
          "metadata": {
            "tags": []
          },
          "execution_count": 57
        }
      ]
    },
    {
      "cell_type": "code",
      "metadata": {
        "colab": {
          "base_uri": "https://localhost:8080/",
          "height": 279
        },
        "id": "KQMX4U1itOEG",
        "outputId": "034d4baa-b932-400a-8ecf-c20ff1ff44a0"
      },
      "source": [
        "plt.hist([len(s) for s in X_train], bins=50)\n",
        "plt.xlabel('length of smaples')\n",
        "plt.ylabel('number of samples')\n",
        "plt.show()"
      ],
      "execution_count": 58,
      "outputs": [
        {
          "output_type": "display_data",
          "data": {
            "image/png": "[encoded data removed]",
            "text/plain": [
              "<Figure size 432x288 with 1 Axes>"
            ]
          },
          "metadata": {
            "tags": [],
            "needs_background": "light"
          }
        }
      ]
    },
    {
      "cell_type": "code",
      "metadata": {
        "id": "yyY1YtwDtV3N"
      },
      "source": [
        "X_train = tf.keras.preprocessing.sequence.pad_sequences(X_train, maxlen=60)\n",
        "X_test = tf.keras.preprocessing.sequence.pad_sequences(X_test, maxlen=60)"
      ],
      "execution_count": 59,
      "outputs": []
    },
    {
      "cell_type": "markdown",
      "metadata": {
        "id": "g9INyw9qtanS"
      },
      "source": [
        "**Model**"
      ]
    },
    {
      "cell_type": "code",
      "metadata": {
        "colab": {
          "base_uri": "https://localhost:8080/"
        },
        "id": "OGhTOG7ntcfD",
        "outputId": "04eda948-2386-474b-e404-15cee0494aa5"
      },
      "source": [
        "model = tf.keras.models.Sequential([\n",
        "  tf.keras.layers.Embedding(vocab_size, 100),\n",
        "  tf.keras.layers.LSTM(64),\n",
        "  tf.keras.layers.Dense(32,activation='relu'),\n",
        "  tf.keras.layers.Dense(1, activation='sigmoid')\n",
        "])\n",
        "\n",
        "model.compile(loss=\"binary_crossentropy\", \n",
        "              optimizer=\"rmsprop\",\n",
        "              metrics=['acc'])\n",
        "model.summary()"
      ],
      "execution_count": 60,
      "outputs": [
        {
          "output_type": "stream",
          "text": [
            "Model: \"sequential_2\"\n",
            "_________________________________________________________________\n",
            "Layer (type)                 Output Shape              Param #   \n",
            "=================================================================\n",
            "embedding_2 (Embedding)      (None, None, 100)         2226500   \n",
            "_________________________________________________________________\n",
            "lstm_2 (LSTM)                (None, 64)                42240     \n",
            "_________________________________________________________________\n",
            "dense_3 (Dense)              (None, 32)                2080      \n",
            "_________________________________________________________________\n",
            "dense_4 (Dense)              (None, 1)                 33        \n",
            "=================================================================\n",
            "Total params: 2,270,853\n",
            "Trainable params: 2,270,853\n",
            "Non-trainable params: 0\n",
            "_________________________________________________________________\n"
          ],
          "name": "stdout"
        }
      ]
    },
    {
      "cell_type": "markdown",
      "metadata": {
        "id": "xfC95AUmv7-d"
      },
      "source": [
        "WIthout GPU:\n",
        "Epoch 1/15\n",
        "1939/1939 [==============================] - 292s 149ms/step - loss: 0.4593 - acc: 0.7771 - val_loss: 0.3589 - val_acc: 0.8383"
      ]
    },
    {
      "cell_type": "code",
      "metadata": {
        "colab": {
          "base_uri": "https://localhost:8080/"
        },
        "id": "qk2IOqT6v7Cv",
        "outputId": "2decff97-5bc8-43f2-8a3e-c853a82db52f"
      },
      "source": [
        "device_name = tf.test.gpu_device_name()\n",
        "if device_name != '/device:GPU:0':\n",
        "  raise SystemError('GPU device not found')\n",
        "print('Found GPU at: {}'.format(device_name))"
      ],
      "execution_count": 61,
      "outputs": [
        {
          "output_type": "stream",
          "text": [
            "Found GPU at: /device:GPU:0\n"
          ],
          "name": "stdout"
        }
      ]
    },
    {
      "cell_type": "code",
      "metadata": {
        "colab": {
          "base_uri": "https://localhost:8080/"
        },
        "id": "zV8oZ1xitflG",
        "outputId": "9a28dc25-864e-43cd-f676-3950f11b419a"
      },
      "source": [
        "history = model.fit(X_train, y_train, \n",
        "                    batch_size=60,\n",
        "                    validation_split=0.2,\n",
        "                    epochs=15)"
      ],
      "execution_count": 62,
      "outputs": [
        {
          "output_type": "stream",
          "text": [
            "Epoch 1/15\n",
            "1939/1939 [==============================] - 27s 13ms/step - loss: 0.4435 - acc: 0.7874 - val_loss: 0.3536 - val_acc: 0.8416\n",
            "Epoch 2/15\n",
            "1939/1939 [==============================] - 27s 14ms/step - loss: 0.3279 - acc: 0.8562 - val_loss: 0.3538 - val_acc: 0.8375\n",
            "Epoch 3/15\n",
            "1939/1939 [==============================] - 27s 14ms/step - loss: 0.2952 - acc: 0.8741 - val_loss: 0.3285 - val_acc: 0.8570\n",
            "Epoch 4/15\n",
            "1939/1939 [==============================] - 27s 14ms/step - loss: 0.2745 - acc: 0.8851 - val_loss: 0.3252 - val_acc: 0.8613\n",
            "Epoch 5/15\n",
            "1939/1939 [==============================] - 26s 14ms/step - loss: 0.2550 - acc: 0.8960 - val_loss: 0.3277 - val_acc: 0.8603\n",
            "Epoch 6/15\n",
            "1939/1939 [==============================] - 26s 14ms/step - loss: 0.2391 - acc: 0.9037 - val_loss: 0.3270 - val_acc: 0.8575\n",
            "Epoch 7/15\n",
            "1939/1939 [==============================] - 26s 13ms/step - loss: 0.2251 - acc: 0.9107 - val_loss: 0.3372 - val_acc: 0.8598\n",
            "Epoch 8/15\n",
            "1939/1939 [==============================] - 26s 13ms/step - loss: 0.2127 - acc: 0.9163 - val_loss: 0.3293 - val_acc: 0.8601\n",
            "Epoch 9/15\n",
            "1939/1939 [==============================] - 26s 13ms/step - loss: 0.2000 - acc: 0.9213 - val_loss: 0.3467 - val_acc: 0.8544\n",
            "Epoch 10/15\n",
            "1939/1939 [==============================] - 26s 13ms/step - loss: 0.1856 - acc: 0.9276 - val_loss: 0.3602 - val_acc: 0.8515\n",
            "Epoch 11/15\n",
            "1939/1939 [==============================] - 26s 13ms/step - loss: 0.1752 - acc: 0.9324 - val_loss: 0.3685 - val_acc: 0.8574\n",
            "Epoch 12/15\n",
            "1939/1939 [==============================] - 26s 13ms/step - loss: 0.1637 - acc: 0.9382 - val_loss: 0.3949 - val_acc: 0.8512\n",
            "Epoch 13/15\n",
            "1939/1939 [==============================] - 26s 13ms/step - loss: 0.1489 - acc: 0.9439 - val_loss: 0.3985 - val_acc: 0.8498\n",
            "Epoch 14/15\n",
            "1939/1939 [==============================] - 26s 13ms/step - loss: 0.1395 - acc: 0.9482 - val_loss: 0.4220 - val_acc: 0.8470\n",
            "Epoch 15/15\n",
            "1939/1939 [==============================] - 26s 13ms/step - loss: 0.1271 - acc: 0.9523 - val_loss: 0.4267 - val_acc: 0.8444\n"
          ],
          "name": "stdout"
        }
      ]
    },
    {
      "cell_type": "code",
      "metadata": {
        "colab": {
          "base_uri": "https://localhost:8080/"
        },
        "id": "PuP2QuvB2F3k",
        "outputId": "6385a132-d42b-4bb0-c5b6-960521b6e4fd"
      },
      "source": [
        "model.evaluate(X_test, y_test)"
      ],
      "execution_count": 63,
      "outputs": [
        {
          "output_type": "stream",
          "text": [
            "1527/1527 [==============================] - 5s 3ms/step - loss: 0.4296 - acc: 0.8433\n"
          ],
          "name": "stdout"
        },
        {
          "output_type": "execute_result",
          "data": {
            "text/plain": [
              "[0.42963796854019165, 0.8433021903038025]"
            ]
          },
          "metadata": {
            "tags": []
          },
          "execution_count": 63
        }
      ]
    },
    {
      "cell_type": "markdown",
      "metadata": {
        "id": "P45l0XCjNKhM"
      },
      "source": [
        "**Visualization**"
      ]
    },
    {
      "cell_type": "code",
      "metadata": {
        "colab": {
          "base_uri": "https://localhost:8080/",
          "height": 320
        },
        "id": "4alzN9RdNMzx",
        "outputId": "f099e41e-9616-4df4-c859-e26ae44ee6f9"
      },
      "source": [
        "pd.DataFrame(history.history).plot(figsize=(8,5))\n",
        "plt.grid()\n",
        "plt.gca().set_ylim(0,1.1)\n",
        "plt.show()"
      ],
      "execution_count": 64,
      "outputs": [
        {
          "output_type": "display_data",
          "data": {
            "image/png": "[encoded data removed]",
            "text/plain": [
              "<Figure size 576x360 with 1 Axes>"
            ]
          },
          "metadata": {
            "tags": [],
            "needs_background": "light"
          }
        }
      ]
    },
    {
      "cell_type": "markdown",
      "metadata": {
        "id": "lBSTcVWuNbde"
      },
      "source": [
        "**Predict**\n",
        "https://movie.naver.com/movie/bi/mi/point.nhn?code=189075#pointExpertTab"
      ]
    },
    {
      "cell_type": "code",
      "metadata": {
        "id": "X5yNSfmhNgGE"
      },
      "source": [
        "def predict(sentence):\n",
        "  token = [word for word in mecab.morphs(sentence)]\n",
        "  sequences = tokenizer.texts_to_sequences([token])\n",
        "  pad = tf.keras.preprocessing.sequence.pad_sequences(sequences, maxlen=60)\n",
        "  score = float(model.predict(pad))\n",
        "  if score > 0.5:\n",
        "    print(\"{} \\n -> Positive {:.2f}%\".format(sentence, score*100))\n",
        "  else:\n",
        "    print(\"{} \\n -> Negative {:.2f}%\".format(sentence, (1-score)*100))"
      ],
      "execution_count": 65,
      "outputs": []
    },
    {
      "cell_type": "code",
      "metadata": {
        "colab": {
          "base_uri": "https://localhost:8080/"
        },
        "id": "lxJ9-56WNsce",
        "outputId": "0954396d-0044-41cb-dddf-d105451c0a6e"
      },
      "source": [
        "predict('근래에 봤던 영화 중에 가장 깊은 감동이 있네요.보고 나온 이후에도 여운이 길어서 많은분들께 추천해드리고싶습니다. \\\n",
        "연출 배우님들 참 멋지고 좋습니다.')"
      ],
      "execution_count": 67,
      "outputs": [
        {
          "output_type": "stream",
          "text": [
            "근래에 봤던 영화 중에 가장 깊은 감동이 있네요.보고 나온 이후에도 여운이 길어서 많은분들께 추천해드리고싶습니다. 연출 배우님들 참 멋지고 좋습니다. \n",
            " -> Positive 99.88%\n"
          ],
          "name": "stdout"
        }
      ]
    },
    {
      "cell_type": "code",
      "metadata": {
        "colab": {
          "base_uri": "https://localhost:8080/"
        },
        "id": "xb23XJveN2Vu",
        "outputId": "aceeb760-a707-4dc3-bf38-9892f6a1a621"
      },
      "source": [
        "predict('흑백영화라 사실 왜 흑백으로 했을까 생각했었는데 영화를 끝까지 다보고 난 뒤 이준익 감독님의 소름돋는 연출력을 느낄수 있었습니다 \\\n",
        "오랜만에 눈물도 흘리고 넘 재밌게 본 영화네요 개인적으로 한국사공부하면서 정약전에 대해 알고 있어서 더 흥미롭게 봤던거같아요')"
      ],
      "execution_count": 68,
      "outputs": [
        {
          "output_type": "stream",
          "text": [
            "흑백영화라 사실 왜 흑백으로 했을까 생각했었는데 영화를 끝까지 다보고 난 뒤 이준익 감독님의 소름돋는 연출력을 느낄수 있었습니다 오랜만에 눈물도 흘리고 넘 재밌게 본 영화네요 개인적으로 한국사공부하면서 정약전에 대해 알고 있어서 더 흥미롭게 봤던거같아요 \n",
            " -> Positive 99.98%\n"
          ],
          "name": "stdout"
        }
      ]
    },
    {
      "cell_type": "code",
      "metadata": {
        "colab": {
          "base_uri": "https://localhost:8080/"
        },
        "id": "6JsNGWhNN-2v",
        "outputId": "8fedd04f-522f-4f67-e538-77e68102c1ea"
      },
      "source": [
        "predict('마침 최근 강진군 여행시 다산의 흔적을 보고 왔는데영화에서 다산과 자산의 애틋한 형제애가 따뜻해 보인다\\\n",
        "배우들의 연기력도 좋고 바다를 배경으로 한 영상미가 뛰어났다')"
      ],
      "execution_count": 69,
      "outputs": [
        {
          "output_type": "stream",
          "text": [
            "마침 최근 강진군 여행시 다산의 흔적을 보고 왔는데영화에서 다산과 자산의 애틋한 형제애가 따뜻해 보인다배우들의 연기력도 좋고 바다를 배경으로 한 영상미가 뛰어났다 \n",
            " -> Positive 99.94%\n"
          ],
          "name": "stdout"
        }
      ]
    },
    {
      "cell_type": "code",
      "metadata": {
        "colab": {
          "base_uri": "https://localhost:8080/"
        },
        "id": "h06OExM5OTWP",
        "outputId": "4701ba7f-3f5b-4f69-f31a-aed5b7baf17e"
      },
      "source": [
        "predict(' 살짝 지루한 면도 있지만 보길 잘했다 싶어요~ 흑백의 영상 넘 좋아요.')"
      ],
      "execution_count": 70,
      "outputs": [
        {
          "output_type": "stream",
          "text": [
            " 살짝 지루한 면도 있지만 보길 잘했다 싶어요~ 흑백의 영상 넘 좋아요. \n",
            " -> Positive 99.90%\n"
          ],
          "name": "stdout"
        }
      ]
    }
  ]
}